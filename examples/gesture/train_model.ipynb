{
 "cells": [
  {
   "cell_type": "markdown",
   "metadata": {},
   "source": [
    "# Train a gesture recognizer\n",
    "\n",
    "We start by installing pre-reqs. We use a TypeScript program to segment data (can be replaced in future)."
   ]
  },
  {
   "cell_type": "code",
   "execution_count": 63,
   "metadata": {},
   "outputs": [
    {
     "name": "stdout",
     "output_type": "stream",
     "text": [
      "\u001b[K\u001b[?25h/usr/local/bin/ts-node -> /usr/local/lib/node_modules/ts-node/dist/bin.jstiming\u001b[0m \u001b[35maction:finalize\u001b[0m\u001b[0m\u001b[KK\n",
      "/usr/local/bin/ts-script -> /usr/local/lib/node_modules/ts-node/dist/bin-script-deprecated.js\n",
      "/usr/local/bin/ts-node-script -> /usr/local/lib/node_modules/ts-node/dist/bin-script.js\n",
      "/usr/local/bin/ts-node-transpile-only -> /usr/local/lib/node_modules/ts-node/dist/bin-transpile.js\n",
      "/usr/local/bin/tsc -> /usr/local/lib/node_modules/typescript/bin/tsc\n",
      "/usr/local/bin/tsserver -> /usr/local/lib/node_modules/typescript/bin/tsserver\n",
      "+ ts-node@9.0.0\n",
      "+ typescript@4.0.3\n",
      "updated 2 packages in 1.177s\n"
     ]
    }
   ],
   "source": [
    "! npm install -g -u typescript ts-node\n",
    "#! pip3 install tensorflow==2.3 tensorboard=2.3\n",
    "! npm install @types/node"
   ]
  },
  {
   "cell_type": "markdown",
   "metadata": {},
   "source": [
    "Then we run the segmentation script."
   ]
  },
  {
   "cell_type": "code",
   "execution_count": 1,
   "metadata": {},
   "outputs": [
    {
     "name": "stdout",
     "output_type": "stream",
     "text": [
      "loading data/michal/punch.csv\n",
      "steady: [ \u001b[33m0.99609375\u001b[39m, \u001b[33m0.04296875\u001b[39m, \u001b[33m0.04296875\u001b[39m ]\n",
      "cutoff: \u001b[33m0.453125\u001b[39m in cutoff %: \u001b[33m55.947136563876654\u001b[39m\n",
      "loading data/michal/right.csv\n",
      "steady: [ \u001b[33m0.9375\u001b[39m, \u001b[33m0.33203125\u001b[39m, \u001b[33m0.0234375\u001b[39m ]\n",
      "cutoff: \u001b[33m0.5703125\u001b[39m in cutoff %: \u001b[33m61.8100447538538\u001b[39m\n",
      "loading data/michal/left.csv\n",
      "steady: [ \u001b[33m0.98828125\u001b[39m, \u001b[33m0.01171875\u001b[39m, \u001b[33m0.08984375\u001b[39m ]\n",
      "cutoff: \u001b[33m0.4609375\u001b[39m in cutoff %: \u001b[33m63.18245450303313\u001b[39m\n",
      "loading data/michal/noise.csv\n",
      "loading data/michal/noise1.csv\n",
      "loading data/ira/punch2.csv\n",
      "steady: [ \u001b[33m1.00390625\u001b[39m, \u001b[33m-0.08984375\u001b[39m, \u001b[33m0.00390625\u001b[39m ]\n",
      "cutoff: \u001b[33m1.2109375\u001b[39m in cutoff %: \u001b[33m67.358934169279\u001b[39m\n",
      "loading data/ira/right1.csv\n",
      "steady: [ \u001b[33m0.97265625\u001b[39m, \u001b[33m0.19140625\u001b[39m, \u001b[33m0.21484375\u001b[39m ]\n",
      "cutoff: \u001b[33m0.546875\u001b[39m in cutoff %: \u001b[33m63.898557931377425\u001b[39m\n",
      "loading data/ira/left0.csv\n",
      "steady: [ \u001b[33m0.9765625\u001b[39m, \u001b[33m-0.15625\u001b[39m, \u001b[33m0.22265625\u001b[39m ]\n",
      "cutoff: \u001b[33m0.5625\u001b[39m in cutoff %: \u001b[33m58.14591332967636\u001b[39m\n",
      "loading data/ira/noise0.csv\n",
      "median len: 30\n",
      "len 50+: 1\n",
      "data/michal/left.csv drop 1 too long\n",
      "punch \u001b[33m11\u001b[39m \u001b[33m13\u001b[39m \u001b[33m10\u001b[39m\n",
      "right \u001b[33m16\u001b[39m \u001b[33m19\u001b[39m \u001b[33m15\u001b[39m\n",
      "left \u001b[33m15\u001b[39m \u001b[33m17\u001b[39m \u001b[33m14\u001b[39m\n",
      "noise \u001b[33m7\u001b[39m \u001b[33m8\u001b[39m \u001b[33m7\u001b[39m\n",
      "noise \u001b[33m19\u001b[39m \u001b[33m22\u001b[39m \u001b[33m18\u001b[39m\n",
      "punch \u001b[33m19\u001b[39m \u001b[33m22\u001b[39m \u001b[33m18\u001b[39m\n",
      "right \u001b[33m14\u001b[39m \u001b[33m16\u001b[39m \u001b[33m13\u001b[39m\n",
      "left \u001b[33m15\u001b[39m \u001b[33m18\u001b[39m \u001b[33m15\u001b[39m\n",
      "noise \u001b[33m28\u001b[39m \u001b[33m33\u001b[39m \u001b[33m27\u001b[39m\n",
      "written to built/train\n",
      "written to built/test\n",
      "written to built/validate\n"
     ]
    }
   ],
   "source": [
    "! rm -rf built/\n",
    "! ts-node segment.ts"
   ]
  },
  {
   "cell_type": "markdown",
   "metadata": {},
   "source": [
    "Here, we display the results of segmentation."
   ]
  },
  {
   "cell_type": "code",
   "execution_count": 2,
   "metadata": {
    "colab": {},
    "colab_type": "code",
    "id": "5PYwRFppd-WB"
   },
   "outputs": [],
   "source": [
    "import pandas as pd\n",
    "import matplotlib\n",
    "import glob\n",
    "\n",
    "for fn in glob.glob(\"./built/seg/*.csv\"):\n",
    "    data = pd.read_csv(fn)\n",
    "    #data.plot(figsize=(20,7),title=fn)\n"
   ]
  },
  {
   "cell_type": "markdown",
   "metadata": {
    "colab_type": "text",
    "id": "_UQblnrLd_ET"
   },
   "source": [
    "## Configure Defaults"
   ]
  },
  {
   "cell_type": "code",
   "execution_count": 3,
   "metadata": {
    "colab": {},
    "colab_type": "code",
    "id": "5PYwRFppd-WB"
   },
   "outputs": [],
   "source": [
    "# Define paths to model files\n",
    "import os\n",
    "# Set a \"seed\" value, so we get the same random numbers each time we run this\n",
    "# notebook for reproducible results.\n",
    "# Numpy is a math library\n",
    "import numpy as np\n",
    "np.random.seed(1) # numpy seed\n",
    "# TensorFlow is an open source machine learning library\n",
    "import tensorflow as tf\n",
    "tf.random.set_seed(1) # tensorflow global random seed\n",
    "# Keras is TensorFlow's high-level API for deep learning\n",
    "from tensorflow import keras\n",
    "# Matplotlib is a graphing library\n",
    "import matplotlib.pyplot as plt\n",
    "# Math is Python's math library\n",
    "import math"
   ]
  },
  {
   "cell_type": "markdown",
   "metadata": {
    "colab_type": "text",
    "id": "6rLYpvtg9P4o"
   },
   "source": [
    "Set Seed for Repeatable Results\n",
    "## Load data to numpy"
   ]
  },
  {
   "cell_type": "code",
   "execution_count": 4,
   "metadata": {},
   "outputs": [
    {
     "name": "stdout",
     "output_type": "stream",
     "text": [
      "load 1000 samples from built/train\n",
      "load 500 samples from built/test\n",
      "load 500 samples from built/validate\n",
      "(1000, 50, 3, 1) (1000, 4)\n"
     ]
    }
   ],
   "source": [
    "class_names = ['noise', 'punch', 'left', 'right']\n",
    "\n",
    "def load_data(folder):\n",
    "    x_tmp = []\n",
    "    y_tmp = []\n",
    "    for fn in glob.glob(folder + \"/*.csv\"):\n",
    "        csv = pd.read_csv(fn)\n",
    "        assert csv.values.shape == (50,3)\n",
    "        x_tmp.append(csv.values.astype(np.float32))\n",
    "        yy = [1 if class_names[i] in fn else 0 for i in range(len(class_names))]\n",
    "        assert sum(yy) == 1\n",
    "        y_tmp.append(yy)\n",
    "    print(\"load %d samples from %s\" % (len(y_tmp), folder))\n",
    "    return np.array(x_tmp).reshape((-1,50,3,1)), np.array(y_tmp).astype(np.float32)\n",
    "\n",
    "xs_train, ys_train = load_data(\"built/train\")\n",
    "xs_test, ys_test = load_data(\"built/test\")\n",
    "xs_validate, ys_validate = load_data(\"built/validate\")\n",
    "\n",
    "print(xs_train.shape, ys_train.shape)\n"
   ]
  },
  {
   "cell_type": "markdown",
   "metadata": {
    "colab_type": "text",
    "id": "tx9lOPWh9grN"
   },
   "source": [
    "## Build the model"
   ]
  },
  {
   "cell_type": "code",
   "execution_count": 68,
   "metadata": {},
   "outputs": [],
   "source": [
    "model = tf.keras.Sequential()\n",
    "\n",
    "model.add(keras.layers.Conv2D(16, (4, 3),\n",
    "    input_shape = (50, 3, 1),\n",
    "    strides= 1,\n",
    "    activation= 'relu'))\n",
    "\n",
    "model.add(keras.layers.MaxPooling2D(pool_size = (2, 1)))\n",
    "model.add(keras.layers.Dropout(0.1))\n",
    "\n",
    "model.add(keras.layers.Conv2D(16, (2, 1),\n",
    "    strides= 1,\n",
    "    activation= 'relu'))\n",
    "\n",
    "#model.add(keras.layers.MaxPooling2D(pool_size = (2, 1))\n",
    "model.add(keras.layers.Dropout(0.1))\n",
    "\n",
    "model.add(keras.layers.Conv2D(16, (2, 1),\n",
    "    strides= 1,\n",
    "    activation= 'relu'))\n",
    "model.add(keras.layers.Dropout(0.1))\n",
    "\n",
    "model.add(keras.layers.Flatten())\n",
    "\n",
    "model.add(keras.layers.Dense(len(class_names), \n",
    "    activation= 'softmax'))\n",
    "model.compile(optimizer='adam', loss='categorical_crossentropy', metrics=['accuracy'])\n",
    "\n",
    "w0 = model.get_weights()\n"
   ]
  },
  {
   "cell_type": "markdown",
   "metadata": {
    "colab_type": "text",
    "id": "O0idLyRLQeGj"
   },
   "source": [
    "## Train the Model\n",
    "\n",
    "\n"
   ]
  },
  {
   "cell_type": "code",
   "execution_count": 69,
   "metadata": {
    "colab": {
     "base_uri": "https://localhost:8080/",
     "height": 1000
    },
    "colab_type": "code",
    "id": "p8hQKr4cVOdE",
    "outputId": "5e9fcc84-1733-4786-8fde-ce47a510cde6",
    "tags": [
     "outputPrepend"
    ]
   },
   "outputs": [
    {
     "name": "stdout",
     "output_type": "stream",
     "text": [
      "The tensorboard extension is already loaded. To reload it, use:\n",
      "  %reload_ext tensorboard\n"
     ]
    },
    {
     "data": {
      "text/plain": [
       "Reusing TensorBoard on port 6006 (pid 48801), started 0:48:56 ago. (Use '!kill 48801' to kill it.)"
      ]
     },
     "metadata": {},
     "output_type": "display_data"
    },
    {
     "data": {
      "text/html": [
       "\n",
       "      <iframe id=\"tensorboard-frame-57a30e1b3e83f8f3\" width=\"100%\" height=\"800\" frameborder=\"0\">\n",
       "      </iframe>\n",
       "      <script>\n",
       "        (function() {\n",
       "          const frame = document.getElementById(\"tensorboard-frame-57a30e1b3e83f8f3\");\n",
       "          const url = new URL(\"/\", window.location);\n",
       "          const port = 6006;\n",
       "          if (port) {\n",
       "            url.port = port;\n",
       "          }\n",
       "          frame.src = url;\n",
       "        })();\n",
       "      </script>\n",
       "    "
      ],
      "text/plain": [
       "<IPython.core.display.HTML object>"
      ]
     },
     "metadata": {},
     "output_type": "display_data"
    },
    {
     "name": "stdout",
     "output_type": "stream",
     "text": [
      "Epoch 1/200\n",
      " 1/32 [..............................] - ETA: 0s - loss: 1.2831 - accuracy: 0.4375WARNING:tensorflow:Callbacks method `on_train_batch_end` is slow compared to the batch time (batch time: 0.0025s vs `on_train_batch_end` time: 0.0385s). Check your callbacks.\n"
     ]
    },
    {
     "name": "stderr",
     "output_type": "stream",
     "text": [
      "WARNING:tensorflow:Callbacks method `on_train_batch_end` is slow compared to the batch time (batch time: 0.0025s vs `on_train_batch_end` time: 0.0385s). Check your callbacks.\n"
     ]
    },
    {
     "name": "stdout",
     "output_type": "stream",
     "text": [
      "32/32 [==============================] - 0s 7ms/step - loss: 1.2480 - accuracy: 0.5000 - val_loss: 1.1637 - val_accuracy: 0.5280\n",
      "Epoch 2/200\n",
      "32/32 [==============================] - 0s 2ms/step - loss: 1.1646 - accuracy: 0.5070 - val_loss: 1.0777 - val_accuracy: 0.5280\n",
      "Epoch 3/200\n",
      "32/32 [==============================] - 0s 2ms/step - loss: 1.0481 - accuracy: 0.5250 - val_loss: 0.9659 - val_accuracy: 0.5560\n",
      "Epoch 4/200\n",
      "32/32 [==============================] - 0s 2ms/step - loss: 0.9203 - accuracy: 0.5880 - val_loss: 0.8112 - val_accuracy: 0.6100\n",
      "Epoch 5/200\n",
      "32/32 [==============================] - 0s 2ms/step - loss: 0.8039 - accuracy: 0.6360 - val_loss: 0.6863 - val_accuracy: 0.6880\n",
      "Epoch 6/200\n",
      "32/32 [==============================] - 0s 2ms/step - loss: 0.6877 - accuracy: 0.7010 - val_loss: 0.5932 - val_accuracy: 0.7780\n",
      "Epoch 7/200\n",
      "32/32 [==============================] - 0s 2ms/step - loss: 0.6134 - accuracy: 0.7450 - val_loss: 0.5613 - val_accuracy: 0.8080\n",
      "Epoch 8/200\n",
      "32/32 [==============================] - 0s 2ms/step - loss: 0.5542 - accuracy: 0.7940 - val_loss: 0.4827 - val_accuracy: 0.8380\n",
      "Epoch 9/200\n",
      "32/32 [==============================] - 0s 2ms/step - loss: 0.4975 - accuracy: 0.8130 - val_loss: 0.4594 - val_accuracy: 0.8300\n",
      "Epoch 10/200\n",
      "32/32 [==============================] - 0s 3ms/step - loss: 0.4974 - accuracy: 0.8060 - val_loss: 0.4249 - val_accuracy: 0.8520\n",
      "Epoch 11/200\n",
      "32/32 [==============================] - 0s 2ms/step - loss: 0.4833 - accuracy: 0.8060 - val_loss: 0.4491 - val_accuracy: 0.8400\n",
      "Epoch 12/200\n",
      "32/32 [==============================] - 0s 2ms/step - loss: 0.4346 - accuracy: 0.8400 - val_loss: 0.4069 - val_accuracy: 0.8580\n",
      "Epoch 13/200\n",
      "32/32 [==============================] - 0s 2ms/step - loss: 0.4124 - accuracy: 0.8370 - val_loss: 0.3812 - val_accuracy: 0.8780\n",
      "Epoch 14/200\n",
      "32/32 [==============================] - 0s 2ms/step - loss: 0.4269 - accuracy: 0.8370 - val_loss: 0.3660 - val_accuracy: 0.8820\n",
      "Epoch 15/200\n",
      "32/32 [==============================] - 0s 2ms/step - loss: 0.3963 - accuracy: 0.8370 - val_loss: 0.3676 - val_accuracy: 0.8800\n",
      "Epoch 16/200\n",
      "32/32 [==============================] - 0s 2ms/step - loss: 0.3808 - accuracy: 0.8430 - val_loss: 0.3510 - val_accuracy: 0.8740\n",
      "Epoch 17/200\n",
      "32/32 [==============================] - 0s 2ms/step - loss: 0.3755 - accuracy: 0.8450 - val_loss: 0.3721 - val_accuracy: 0.8880\n",
      "Epoch 18/200\n",
      "32/32 [==============================] - 0s 2ms/step - loss: 0.3597 - accuracy: 0.8730 - val_loss: 0.3373 - val_accuracy: 0.8940\n",
      "Epoch 19/200\n",
      "32/32 [==============================] - 0s 2ms/step - loss: 0.3585 - accuracy: 0.8590 - val_loss: 0.3442 - val_accuracy: 0.8940\n",
      "Epoch 20/200\n",
      "32/32 [==============================] - 0s 2ms/step - loss: 0.3391 - accuracy: 0.8700 - val_loss: 0.3344 - val_accuracy: 0.9000\n",
      "Epoch 21/200\n",
      "32/32 [==============================] - 0s 2ms/step - loss: 0.3480 - accuracy: 0.8610 - val_loss: 0.3624 - val_accuracy: 0.8880\n",
      "Epoch 22/200\n",
      "32/32 [==============================] - 0s 2ms/step - loss: 0.3535 - accuracy: 0.8650 - val_loss: 0.3216 - val_accuracy: 0.8960\n",
      "Epoch 23/200\n",
      "32/32 [==============================] - 0s 2ms/step - loss: 0.3266 - accuracy: 0.8830 - val_loss: 0.3182 - val_accuracy: 0.9020\n",
      "Epoch 24/200\n",
      "32/32 [==============================] - 0s 2ms/step - loss: 0.3216 - accuracy: 0.8690 - val_loss: 0.3360 - val_accuracy: 0.8980\n",
      "Epoch 25/200\n",
      "32/32 [==============================] - 0s 2ms/step - loss: 0.3164 - accuracy: 0.8780 - val_loss: 0.3152 - val_accuracy: 0.8980\n",
      "Epoch 26/200\n",
      "32/32 [==============================] - 0s 2ms/step - loss: 0.3126 - accuracy: 0.8860 - val_loss: 0.2947 - val_accuracy: 0.9160\n",
      "Epoch 27/200\n",
      "32/32 [==============================] - 0s 2ms/step - loss: 0.3069 - accuracy: 0.8840 - val_loss: 0.3007 - val_accuracy: 0.9120\n",
      "Epoch 28/200\n",
      "32/32 [==============================] - 0s 2ms/step - loss: 0.3024 - accuracy: 0.8840 - val_loss: 0.2956 - val_accuracy: 0.9160\n",
      "Epoch 29/200\n",
      "32/32 [==============================] - 0s 3ms/step - loss: 0.2883 - accuracy: 0.8940 - val_loss: 0.2733 - val_accuracy: 0.9220\n",
      "Epoch 30/200\n",
      "32/32 [==============================] - 0s 2ms/step - loss: 0.2881 - accuracy: 0.9010 - val_loss: 0.2569 - val_accuracy: 0.9220\n",
      "Epoch 31/200\n",
      "32/32 [==============================] - 0s 2ms/step - loss: 0.2728 - accuracy: 0.9010 - val_loss: 0.2771 - val_accuracy: 0.9200\n",
      "Epoch 32/200\n",
      "32/32 [==============================] - 0s 2ms/step - loss: 0.2682 - accuracy: 0.9050 - val_loss: 0.2731 - val_accuracy: 0.9240\n",
      "Epoch 33/200\n",
      "32/32 [==============================] - 0s 2ms/step - loss: 0.2732 - accuracy: 0.9050 - val_loss: 0.2592 - val_accuracy: 0.9120\n",
      "Epoch 34/200\n",
      "32/32 [==============================] - 0s 2ms/step - loss: 0.2712 - accuracy: 0.8860 - val_loss: 0.2583 - val_accuracy: 0.9280\n",
      "Epoch 35/200\n",
      "32/32 [==============================] - 0s 2ms/step - loss: 0.2695 - accuracy: 0.9020 - val_loss: 0.2600 - val_accuracy: 0.9320\n",
      "Epoch 36/200\n",
      "32/32 [==============================] - 0s 2ms/step - loss: 0.2521 - accuracy: 0.9040 - val_loss: 0.2545 - val_accuracy: 0.9300\n",
      "Epoch 37/200\n",
      "32/32 [==============================] - 0s 2ms/step - loss: 0.2689 - accuracy: 0.9050 - val_loss: 0.2391 - val_accuracy: 0.9280\n",
      "Epoch 38/200\n",
      "32/32 [==============================] - 0s 2ms/step - loss: 0.2404 - accuracy: 0.9060 - val_loss: 0.2616 - val_accuracy: 0.9260\n",
      "Epoch 39/200\n",
      "32/32 [==============================] - 0s 2ms/step - loss: 0.2432 - accuracy: 0.9040 - val_loss: 0.2800 - val_accuracy: 0.9200\n",
      "Epoch 40/200\n",
      "32/32 [==============================] - 0s 2ms/step - loss: 0.2473 - accuracy: 0.8980 - val_loss: 0.2337 - val_accuracy: 0.9300\n",
      "Epoch 41/200\n",
      "32/32 [==============================] - 0s 2ms/step - loss: 0.2602 - accuracy: 0.8970 - val_loss: 0.2153 - val_accuracy: 0.9320\n",
      "Epoch 42/200\n",
      "32/32 [==============================] - 0s 2ms/step - loss: 0.2434 - accuracy: 0.9070 - val_loss: 0.2433 - val_accuracy: 0.9260\n",
      "Epoch 43/200\n",
      "32/32 [==============================] - 0s 2ms/step - loss: 0.2219 - accuracy: 0.9190 - val_loss: 0.2256 - val_accuracy: 0.9280\n",
      "Epoch 44/200\n",
      "32/32 [==============================] - 0s 2ms/step - loss: 0.2231 - accuracy: 0.9200 - val_loss: 0.2185 - val_accuracy: 0.9300\n",
      "Epoch 45/200\n",
      "32/32 [==============================] - 0s 2ms/step - loss: 0.2169 - accuracy: 0.9190 - val_loss: 0.2388 - val_accuracy: 0.9340\n",
      "Epoch 46/200\n",
      "32/32 [==============================] - 0s 2ms/step - loss: 0.2105 - accuracy: 0.9170 - val_loss: 0.2503 - val_accuracy: 0.9280\n",
      "Epoch 47/200\n",
      "32/32 [==============================] - 0s 2ms/step - loss: 0.2196 - accuracy: 0.9180 - val_loss: 0.2309 - val_accuracy: 0.9300\n",
      "Epoch 48/200\n",
      "32/32 [==============================] - 0s 2ms/step - loss: 0.2170 - accuracy: 0.9190 - val_loss: 0.2015 - val_accuracy: 0.9400\n",
      "Epoch 49/200\n",
      "32/32 [==============================] - 0s 2ms/step - loss: 0.2056 - accuracy: 0.9170 - val_loss: 0.2263 - val_accuracy: 0.9360\n",
      "Epoch 50/200\n",
      "32/32 [==============================] - 0s 2ms/step - loss: 0.2003 - accuracy: 0.9230 - val_loss: 0.2200 - val_accuracy: 0.9380\n",
      "Epoch 51/200\n",
      "32/32 [==============================] - 0s 2ms/step - loss: 0.1901 - accuracy: 0.9250 - val_loss: 0.2059 - val_accuracy: 0.9440\n",
      "Epoch 52/200\n",
      "32/32 [==============================] - 0s 2ms/step - loss: 0.2028 - accuracy: 0.9380 - val_loss: 0.2054 - val_accuracy: 0.9440\n",
      "Epoch 53/200\n",
      "32/32 [==============================] - 0s 2ms/step - loss: 0.1902 - accuracy: 0.9320 - val_loss: 0.2347 - val_accuracy: 0.9360\n",
      "Epoch 54/200\n",
      "32/32 [==============================] - 0s 2ms/step - loss: 0.2251 - accuracy: 0.9110 - val_loss: 0.2087 - val_accuracy: 0.9480\n",
      "Epoch 55/200\n",
      "32/32 [==============================] - 0s 2ms/step - loss: 0.1812 - accuracy: 0.9270 - val_loss: 0.2117 - val_accuracy: 0.9480\n",
      "Epoch 56/200\n",
      "32/32 [==============================] - 0s 2ms/step - loss: 0.1814 - accuracy: 0.9250 - val_loss: 0.1996 - val_accuracy: 0.9460\n",
      "Epoch 57/200\n",
      "32/32 [==============================] - 0s 3ms/step - loss: 0.1819 - accuracy: 0.9250 - val_loss: 0.1882 - val_accuracy: 0.9420\n",
      "Epoch 58/200\n",
      "32/32 [==============================] - 0s 2ms/step - loss: 0.1827 - accuracy: 0.9280 - val_loss: 0.1730 - val_accuracy: 0.9520\n",
      "Epoch 59/200\n",
      "32/32 [==============================] - 0s 2ms/step - loss: 0.1819 - accuracy: 0.9260 - val_loss: 0.1971 - val_accuracy: 0.9400\n",
      "Epoch 60/200\n",
      "32/32 [==============================] - 0s 2ms/step - loss: 0.1730 - accuracy: 0.9290 - val_loss: 0.2065 - val_accuracy: 0.9380\n",
      "Epoch 61/200\n",
      "32/32 [==============================] - 0s 2ms/step - loss: 0.1675 - accuracy: 0.9420 - val_loss: 0.1865 - val_accuracy: 0.9520\n",
      "Epoch 62/200\n",
      "32/32 [==============================] - 0s 2ms/step - loss: 0.1933 - accuracy: 0.9240 - val_loss: 0.1883 - val_accuracy: 0.9480\n",
      "Epoch 63/200\n",
      "32/32 [==============================] - 0s 2ms/step - loss: 0.1641 - accuracy: 0.9330 - val_loss: 0.2114 - val_accuracy: 0.9480\n",
      "Epoch 64/200\n",
      "32/32 [==============================] - 0s 2ms/step - loss: 0.1800 - accuracy: 0.9300 - val_loss: 0.2047 - val_accuracy: 0.9480\n",
      "Epoch 65/200\n",
      "32/32 [==============================] - 0s 2ms/step - loss: 0.1760 - accuracy: 0.9310 - val_loss: 0.1768 - val_accuracy: 0.9560\n",
      "Epoch 66/200\n",
      "32/32 [==============================] - 0s 2ms/step - loss: 0.1520 - accuracy: 0.9400 - val_loss: 0.1787 - val_accuracy: 0.9500\n",
      "Epoch 67/200\n",
      "32/32 [==============================] - 0s 2ms/step - loss: 0.1533 - accuracy: 0.9460 - val_loss: 0.1734 - val_accuracy: 0.9560\n",
      "Epoch 68/200\n",
      "32/32 [==============================] - 0s 2ms/step - loss: 0.1644 - accuracy: 0.9320 - val_loss: 0.1951 - val_accuracy: 0.9420\n",
      "Epoch 69/200\n",
      "32/32 [==============================] - 0s 2ms/step - loss: 0.1607 - accuracy: 0.9400 - val_loss: 0.1672 - val_accuracy: 0.9540\n",
      "Epoch 70/200\n",
      "32/32 [==============================] - 0s 2ms/step - loss: 0.1523 - accuracy: 0.9340 - val_loss: 0.1947 - val_accuracy: 0.9500\n",
      "Epoch 71/200\n",
      "32/32 [==============================] - 0s 2ms/step - loss: 0.1620 - accuracy: 0.9390 - val_loss: 0.1871 - val_accuracy: 0.9540\n",
      "Epoch 72/200\n",
      "32/32 [==============================] - 0s 2ms/step - loss: 0.1533 - accuracy: 0.9420 - val_loss: 0.1656 - val_accuracy: 0.9580\n",
      "Epoch 73/200\n",
      "32/32 [==============================] - 0s 2ms/step - loss: 0.1556 - accuracy: 0.9400 - val_loss: 0.1739 - val_accuracy: 0.9580\n",
      "Epoch 74/200\n",
      "32/32 [==============================] - 0s 2ms/step - loss: 0.1396 - accuracy: 0.9410 - val_loss: 0.1686 - val_accuracy: 0.9600\n",
      "Epoch 75/200\n",
      "32/32 [==============================] - 0s 3ms/step - loss: 0.1534 - accuracy: 0.9450 - val_loss: 0.1622 - val_accuracy: 0.9560\n",
      "Epoch 76/200\n",
      "32/32 [==============================] - 0s 2ms/step - loss: 0.1428 - accuracy: 0.9490 - val_loss: 0.1705 - val_accuracy: 0.9580\n",
      "Epoch 77/200\n",
      "32/32 [==============================] - 0s 2ms/step - loss: 0.1461 - accuracy: 0.9480 - val_loss: 0.1549 - val_accuracy: 0.9540\n",
      "Epoch 78/200\n",
      "32/32 [==============================] - 0s 2ms/step - loss: 0.1338 - accuracy: 0.9480 - val_loss: 0.1686 - val_accuracy: 0.9580\n",
      "Epoch 79/200\n",
      "32/32 [==============================] - 0s 3ms/step - loss: 0.1451 - accuracy: 0.9480 - val_loss: 0.1723 - val_accuracy: 0.9540\n",
      "Epoch 80/200\n",
      "32/32 [==============================] - 0s 3ms/step - loss: 0.1418 - accuracy: 0.9420 - val_loss: 0.1634 - val_accuracy: 0.9600\n",
      "Epoch 81/200\n",
      "32/32 [==============================] - 0s 2ms/step - loss: 0.1423 - accuracy: 0.9450 - val_loss: 0.1607 - val_accuracy: 0.9540\n",
      "Epoch 82/200\n",
      "32/32 [==============================] - 0s 2ms/step - loss: 0.1360 - accuracy: 0.9430 - val_loss: 0.1745 - val_accuracy: 0.9520\n",
      "Epoch 83/200\n",
      "32/32 [==============================] - 0s 2ms/step - loss: 0.1238 - accuracy: 0.9490 - val_loss: 0.1629 - val_accuracy: 0.9520\n",
      "Epoch 84/200\n",
      "32/32 [==============================] - 0s 2ms/step - loss: 0.1299 - accuracy: 0.9470 - val_loss: 0.1848 - val_accuracy: 0.9520\n",
      "Epoch 85/200\n",
      "32/32 [==============================] - 0s 2ms/step - loss: 0.1373 - accuracy: 0.9450 - val_loss: 0.1956 - val_accuracy: 0.9540\n",
      "Epoch 86/200\n",
      "32/32 [==============================] - 0s 2ms/step - loss: 0.1392 - accuracy: 0.9490 - val_loss: 0.2168 - val_accuracy: 0.9440\n",
      "Epoch 87/200\n",
      "32/32 [==============================] - 0s 2ms/step - loss: 0.1299 - accuracy: 0.9480 - val_loss: 0.1684 - val_accuracy: 0.9560\n",
      "Epoch 88/200\n",
      "32/32 [==============================] - 0s 2ms/step - loss: 0.1297 - accuracy: 0.9440 - val_loss: 0.1487 - val_accuracy: 0.9580\n",
      "Epoch 89/200\n",
      "32/32 [==============================] - 0s 2ms/step - loss: 0.1274 - accuracy: 0.9530 - val_loss: 0.1675 - val_accuracy: 0.9620\n",
      "Epoch 90/200\n",
      "32/32 [==============================] - 0s 2ms/step - loss: 0.1142 - accuracy: 0.9550 - val_loss: 0.1577 - val_accuracy: 0.9620\n",
      "Epoch 91/200\n",
      "32/32 [==============================] - 0s 2ms/step - loss: 0.1126 - accuracy: 0.9570 - val_loss: 0.1637 - val_accuracy: 0.9580\n",
      "Epoch 92/200\n",
      "32/32 [==============================] - 0s 3ms/step - loss: 0.1364 - accuracy: 0.9520 - val_loss: 0.1733 - val_accuracy: 0.9580\n",
      "Epoch 93/200\n",
      "32/32 [==============================] - 0s 2ms/step - loss: 0.1182 - accuracy: 0.9500 - val_loss: 0.1498 - val_accuracy: 0.9600\n",
      "Epoch 94/200\n",
      "32/32 [==============================] - 0s 2ms/step - loss: 0.1294 - accuracy: 0.9450 - val_loss: 0.1737 - val_accuracy: 0.9600\n",
      "Epoch 95/200\n",
      "32/32 [==============================] - 0s 2ms/step - loss: 0.1168 - accuracy: 0.9590 - val_loss: 0.1470 - val_accuracy: 0.9620\n",
      "Epoch 96/200\n",
      "32/32 [==============================] - 0s 2ms/step - loss: 0.1197 - accuracy: 0.9520 - val_loss: 0.1506 - val_accuracy: 0.9600\n",
      "Epoch 97/200\n",
      "32/32 [==============================] - 0s 2ms/step - loss: 0.1130 - accuracy: 0.9530 - val_loss: 0.1523 - val_accuracy: 0.9620\n",
      "Epoch 98/200\n",
      "32/32 [==============================] - 0s 2ms/step - loss: 0.1297 - accuracy: 0.9480 - val_loss: 0.1535 - val_accuracy: 0.9600\n",
      "Epoch 99/200\n",
      "32/32 [==============================] - 0s 2ms/step - loss: 0.1245 - accuracy: 0.9530 - val_loss: 0.1849 - val_accuracy: 0.9500\n",
      "Epoch 100/200\n",
      "32/32 [==============================] - 0s 2ms/step - loss: 0.0999 - accuracy: 0.9610 - val_loss: 0.1729 - val_accuracy: 0.9520\n",
      "Epoch 101/200\n",
      "32/32 [==============================] - 0s 2ms/step - loss: 0.1007 - accuracy: 0.9620 - val_loss: 0.1620 - val_accuracy: 0.9560\n",
      "Epoch 102/200\n",
      "32/32 [==============================] - 0s 2ms/step - loss: 0.1070 - accuracy: 0.9570 - val_loss: 0.1593 - val_accuracy: 0.9580\n",
      "Epoch 103/200\n",
      "32/32 [==============================] - 0s 2ms/step - loss: 0.1226 - accuracy: 0.9440 - val_loss: 0.1700 - val_accuracy: 0.9600\n",
      "Epoch 104/200\n",
      "32/32 [==============================] - 0s 2ms/step - loss: 0.1054 - accuracy: 0.9580 - val_loss: 0.1547 - val_accuracy: 0.9640\n",
      "Epoch 105/200\n",
      "32/32 [==============================] - 0s 2ms/step - loss: 0.1214 - accuracy: 0.9530 - val_loss: 0.1618 - val_accuracy: 0.9540\n",
      "Epoch 106/200\n",
      "32/32 [==============================] - 0s 2ms/step - loss: 0.1038 - accuracy: 0.9640 - val_loss: 0.1528 - val_accuracy: 0.9580\n",
      "Epoch 107/200\n",
      "32/32 [==============================] - 0s 2ms/step - loss: 0.1035 - accuracy: 0.9610 - val_loss: 0.1376 - val_accuracy: 0.9620\n",
      "Epoch 108/200\n",
      "32/32 [==============================] - 0s 2ms/step - loss: 0.0993 - accuracy: 0.9570 - val_loss: 0.1637 - val_accuracy: 0.9600\n",
      "Epoch 109/200\n",
      "32/32 [==============================] - 0s 2ms/step - loss: 0.0992 - accuracy: 0.9650 - val_loss: 0.1767 - val_accuracy: 0.9580\n",
      "Epoch 110/200\n",
      "32/32 [==============================] - 0s 2ms/step - loss: 0.1017 - accuracy: 0.9630 - val_loss: 0.1586 - val_accuracy: 0.9600\n",
      "Epoch 111/200\n",
      "32/32 [==============================] - 0s 2ms/step - loss: 0.1028 - accuracy: 0.9540 - val_loss: 0.1567 - val_accuracy: 0.9640\n",
      "Epoch 112/200\n",
      "32/32 [==============================] - 0s 2ms/step - loss: 0.1032 - accuracy: 0.9590 - val_loss: 0.1473 - val_accuracy: 0.9620\n",
      "Epoch 113/200\n",
      "32/32 [==============================] - 0s 2ms/step - loss: 0.1016 - accuracy: 0.9670 - val_loss: 0.1171 - val_accuracy: 0.9740\n",
      "Epoch 114/200\n",
      "32/32 [==============================] - 0s 2ms/step - loss: 0.1036 - accuracy: 0.9600 - val_loss: 0.1419 - val_accuracy: 0.9640\n",
      "Epoch 115/200\n",
      "32/32 [==============================] - 0s 2ms/step - loss: 0.1045 - accuracy: 0.9570 - val_loss: 0.1668 - val_accuracy: 0.9580\n",
      "Epoch 116/200\n",
      "32/32 [==============================] - 0s 2ms/step - loss: 0.1026 - accuracy: 0.9550 - val_loss: 0.1449 - val_accuracy: 0.9600\n",
      "Epoch 117/200\n",
      "32/32 [==============================] - 0s 3ms/step - loss: 0.0892 - accuracy: 0.9620 - val_loss: 0.1578 - val_accuracy: 0.9660\n",
      "Epoch 118/200\n",
      "32/32 [==============================] - 0s 2ms/step - loss: 0.0885 - accuracy: 0.9610 - val_loss: 0.1493 - val_accuracy: 0.9640\n",
      "Epoch 119/200\n",
      "32/32 [==============================] - 0s 2ms/step - loss: 0.1202 - accuracy: 0.9480 - val_loss: 0.1641 - val_accuracy: 0.9580\n",
      "Epoch 120/200\n",
      "32/32 [==============================] - 0s 2ms/step - loss: 0.0973 - accuracy: 0.9660 - val_loss: 0.1326 - val_accuracy: 0.9640\n",
      "Epoch 121/200\n",
      "32/32 [==============================] - 0s 2ms/step - loss: 0.0938 - accuracy: 0.9680 - val_loss: 0.1551 - val_accuracy: 0.9700\n",
      "Epoch 122/200\n",
      "32/32 [==============================] - 0s 2ms/step - loss: 0.1016 - accuracy: 0.9630 - val_loss: 0.1909 - val_accuracy: 0.9600\n",
      "Epoch 123/200\n",
      "32/32 [==============================] - 0s 2ms/step - loss: 0.0975 - accuracy: 0.9590 - val_loss: 0.2092 - val_accuracy: 0.9520\n",
      "Epoch 124/200\n",
      "32/32 [==============================] - 0s 2ms/step - loss: 0.1062 - accuracy: 0.9580 - val_loss: 0.1402 - val_accuracy: 0.9620\n",
      "Epoch 125/200\n",
      "32/32 [==============================] - 0s 2ms/step - loss: 0.0842 - accuracy: 0.9700 - val_loss: 0.1706 - val_accuracy: 0.9620\n",
      "Epoch 126/200\n",
      "32/32 [==============================] - 0s 2ms/step - loss: 0.0864 - accuracy: 0.9680 - val_loss: 0.1434 - val_accuracy: 0.9660\n",
      "Epoch 127/200\n",
      "32/32 [==============================] - 0s 2ms/step - loss: 0.1008 - accuracy: 0.9590 - val_loss: 0.1768 - val_accuracy: 0.9680\n",
      "Epoch 128/200\n",
      "32/32 [==============================] - 0s 2ms/step - loss: 0.0924 - accuracy: 0.9610 - val_loss: 0.1529 - val_accuracy: 0.9640\n",
      "Epoch 129/200\n",
      "32/32 [==============================] - 0s 2ms/step - loss: 0.0951 - accuracy: 0.9580 - val_loss: 0.1518 - val_accuracy: 0.9660\n",
      "Epoch 130/200\n",
      "32/32 [==============================] - 0s 2ms/step - loss: 0.0878 - accuracy: 0.9620 - val_loss: 0.1418 - val_accuracy: 0.9680\n",
      "Epoch 131/200\n",
      "32/32 [==============================] - 0s 2ms/step - loss: 0.0973 - accuracy: 0.9640 - val_loss: 0.1880 - val_accuracy: 0.9620\n",
      "Epoch 132/200\n",
      "32/32 [==============================] - 0s 2ms/step - loss: 0.0884 - accuracy: 0.9590 - val_loss: 0.1372 - val_accuracy: 0.9700\n",
      "Epoch 133/200\n",
      "32/32 [==============================] - 0s 2ms/step - loss: 0.0908 - accuracy: 0.9590 - val_loss: 0.1224 - val_accuracy: 0.9700\n",
      "Epoch 134/200\n",
      "32/32 [==============================] - 0s 2ms/step - loss: 0.0798 - accuracy: 0.9690 - val_loss: 0.1536 - val_accuracy: 0.9720\n",
      "Epoch 135/200\n",
      "32/32 [==============================] - 0s 2ms/step - loss: 0.0875 - accuracy: 0.9620 - val_loss: 0.1121 - val_accuracy: 0.9740\n",
      "Epoch 136/200\n",
      "32/32 [==============================] - 0s 2ms/step - loss: 0.0897 - accuracy: 0.9670 - val_loss: 0.1577 - val_accuracy: 0.9680\n",
      "Epoch 137/200\n",
      "32/32 [==============================] - 0s 2ms/step - loss: 0.1090 - accuracy: 0.9600 - val_loss: 0.1373 - val_accuracy: 0.9660\n",
      "Epoch 138/200\n",
      "32/32 [==============================] - 0s 2ms/step - loss: 0.0940 - accuracy: 0.9640 - val_loss: 0.1606 - val_accuracy: 0.9620\n",
      "Epoch 139/200\n",
      "32/32 [==============================] - 0s 2ms/step - loss: 0.0921 - accuracy: 0.9720 - val_loss: 0.1304 - val_accuracy: 0.9640\n",
      "Epoch 140/200\n",
      "32/32 [==============================] - 0s 2ms/step - loss: 0.0985 - accuracy: 0.9600 - val_loss: 0.1838 - val_accuracy: 0.9600\n",
      "Epoch 141/200\n",
      "32/32 [==============================] - 0s 2ms/step - loss: 0.0838 - accuracy: 0.9700 - val_loss: 0.1351 - val_accuracy: 0.9620\n",
      "Epoch 142/200\n",
      "32/32 [==============================] - 0s 2ms/step - loss: 0.0846 - accuracy: 0.9670 - val_loss: 0.1409 - val_accuracy: 0.9680\n",
      "Epoch 143/200\n",
      "32/32 [==============================] - 0s 2ms/step - loss: 0.0861 - accuracy: 0.9680 - val_loss: 0.1138 - val_accuracy: 0.9660\n",
      "Epoch 144/200\n",
      "32/32 [==============================] - 0s 2ms/step - loss: 0.0798 - accuracy: 0.9660 - val_loss: 0.1518 - val_accuracy: 0.9620\n",
      "Epoch 145/200\n",
      "32/32 [==============================] - 0s 2ms/step - loss: 0.0766 - accuracy: 0.9680 - val_loss: 0.1292 - val_accuracy: 0.9700\n",
      "Epoch 146/200\n",
      "32/32 [==============================] - 0s 2ms/step - loss: 0.1183 - accuracy: 0.9560 - val_loss: 0.1289 - val_accuracy: 0.9640\n",
      "Epoch 147/200\n",
      "32/32 [==============================] - 0s 2ms/step - loss: 0.0884 - accuracy: 0.9690 - val_loss: 0.1656 - val_accuracy: 0.9660\n",
      "Epoch 148/200\n",
      "32/32 [==============================] - 0s 2ms/step - loss: 0.0865 - accuracy: 0.9660 - val_loss: 0.1012 - val_accuracy: 0.9740\n",
      "Epoch 149/200\n",
      "32/32 [==============================] - 0s 2ms/step - loss: 0.0829 - accuracy: 0.9670 - val_loss: 0.1489 - val_accuracy: 0.9700\n",
      "Epoch 150/200\n",
      "32/32 [==============================] - 0s 2ms/step - loss: 0.0912 - accuracy: 0.9600 - val_loss: 0.1373 - val_accuracy: 0.9780\n",
      "Epoch 151/200\n",
      "32/32 [==============================] - 0s 2ms/step - loss: 0.0798 - accuracy: 0.9700 - val_loss: 0.1149 - val_accuracy: 0.9700\n",
      "Epoch 152/200\n",
      "32/32 [==============================] - 0s 2ms/step - loss: 0.0833 - accuracy: 0.9650 - val_loss: 0.1613 - val_accuracy: 0.9600\n",
      "Epoch 153/200\n",
      "32/32 [==============================] - 0s 2ms/step - loss: 0.0716 - accuracy: 0.9720 - val_loss: 0.1153 - val_accuracy: 0.9620\n",
      "Epoch 154/200\n",
      "32/32 [==============================] - 0s 2ms/step - loss: 0.0787 - accuracy: 0.9670 - val_loss: 0.1286 - val_accuracy: 0.9620\n",
      "Epoch 155/200\n",
      "32/32 [==============================] - 0s 2ms/step - loss: 0.0790 - accuracy: 0.9710 - val_loss: 0.1268 - val_accuracy: 0.9720\n",
      "Epoch 156/200\n",
      "32/32 [==============================] - 0s 2ms/step - loss: 0.0761 - accuracy: 0.9720 - val_loss: 0.1035 - val_accuracy: 0.9700\n",
      "Epoch 157/200\n",
      "32/32 [==============================] - 0s 2ms/step - loss: 0.0831 - accuracy: 0.9670 - val_loss: 0.1318 - val_accuracy: 0.9700\n",
      "Epoch 158/200\n",
      "32/32 [==============================] - 0s 2ms/step - loss: 0.0787 - accuracy: 0.9710 - val_loss: 0.1545 - val_accuracy: 0.9660\n",
      "Epoch 159/200\n",
      "32/32 [==============================] - 0s 2ms/step - loss: 0.0744 - accuracy: 0.9720 - val_loss: 0.1309 - val_accuracy: 0.9720\n",
      "Epoch 160/200\n",
      "32/32 [==============================] - 0s 2ms/step - loss: 0.0628 - accuracy: 0.9760 - val_loss: 0.1223 - val_accuracy: 0.9680\n",
      "Epoch 161/200\n",
      "32/32 [==============================] - 0s 2ms/step - loss: 0.0677 - accuracy: 0.9720 - val_loss: 0.1514 - val_accuracy: 0.9660\n",
      "Epoch 162/200\n",
      "32/32 [==============================] - 0s 2ms/step - loss: 0.0704 - accuracy: 0.9710 - val_loss: 0.1194 - val_accuracy: 0.9780\n",
      "Epoch 163/200\n",
      "32/32 [==============================] - 0s 2ms/step - loss: 0.0703 - accuracy: 0.9720 - val_loss: 0.1465 - val_accuracy: 0.9640\n",
      "Epoch 164/200\n",
      "32/32 [==============================] - 0s 2ms/step - loss: 0.0713 - accuracy: 0.9720 - val_loss: 0.1320 - val_accuracy: 0.9700\n",
      "Epoch 165/200\n",
      "32/32 [==============================] - 0s 2ms/step - loss: 0.0831 - accuracy: 0.9670 - val_loss: 0.1599 - val_accuracy: 0.9660\n",
      "Epoch 166/200\n",
      "32/32 [==============================] - 0s 2ms/step - loss: 0.0741 - accuracy: 0.9700 - val_loss: 0.1348 - val_accuracy: 0.9660\n",
      "Epoch 167/200\n",
      "32/32 [==============================] - 0s 2ms/step - loss: 0.0825 - accuracy: 0.9660 - val_loss: 0.1229 - val_accuracy: 0.9700\n",
      "Epoch 168/200\n",
      "32/32 [==============================] - 0s 2ms/step - loss: 0.0773 - accuracy: 0.9690 - val_loss: 0.1248 - val_accuracy: 0.9660\n",
      "Epoch 169/200\n",
      "32/32 [==============================] - 0s 2ms/step - loss: 0.0695 - accuracy: 0.9720 - val_loss: 0.1609 - val_accuracy: 0.9680\n",
      "Epoch 170/200\n",
      "32/32 [==============================] - 0s 2ms/step - loss: 0.0960 - accuracy: 0.9580 - val_loss: 0.1227 - val_accuracy: 0.9720\n",
      "Epoch 171/200\n",
      "32/32 [==============================] - 0s 2ms/step - loss: 0.0916 - accuracy: 0.9710 - val_loss: 0.1085 - val_accuracy: 0.9680\n",
      "Epoch 172/200\n",
      "32/32 [==============================] - 0s 2ms/step - loss: 0.0836 - accuracy: 0.9690 - val_loss: 0.1101 - val_accuracy: 0.9740\n",
      "Epoch 173/200\n",
      "32/32 [==============================] - 0s 3ms/step - loss: 0.0687 - accuracy: 0.9730 - val_loss: 0.1598 - val_accuracy: 0.9700\n",
      "Epoch 174/200\n",
      "32/32 [==============================] - 0s 2ms/step - loss: 0.0690 - accuracy: 0.9730 - val_loss: 0.1273 - val_accuracy: 0.9760\n",
      "Epoch 175/200\n",
      "32/32 [==============================] - 0s 2ms/step - loss: 0.0758 - accuracy: 0.9660 - val_loss: 0.1323 - val_accuracy: 0.9700\n",
      "Epoch 176/200\n",
      "32/32 [==============================] - 0s 2ms/step - loss: 0.0775 - accuracy: 0.9770 - val_loss: 0.1310 - val_accuracy: 0.9720\n",
      "Epoch 177/200\n",
      "32/32 [==============================] - 0s 2ms/step - loss: 0.0759 - accuracy: 0.9680 - val_loss: 0.1173 - val_accuracy: 0.9700\n",
      "Epoch 178/200\n",
      "32/32 [==============================] - 0s 2ms/step - loss: 0.0673 - accuracy: 0.9720 - val_loss: 0.1082 - val_accuracy: 0.9720\n",
      "Epoch 179/200\n",
      "32/32 [==============================] - 0s 2ms/step - loss: 0.0649 - accuracy: 0.9750 - val_loss: 0.1201 - val_accuracy: 0.9760\n",
      "Epoch 180/200\n",
      "32/32 [==============================] - 0s 2ms/step - loss: 0.0688 - accuracy: 0.9750 - val_loss: 0.1146 - val_accuracy: 0.9800\n",
      "Epoch 181/200\n",
      "32/32 [==============================] - 0s 2ms/step - loss: 0.0580 - accuracy: 0.9800 - val_loss: 0.1385 - val_accuracy: 0.9660\n",
      "Epoch 182/200\n",
      "32/32 [==============================] - 0s 2ms/step - loss: 0.0611 - accuracy: 0.9740 - val_loss: 0.1254 - val_accuracy: 0.9720\n",
      "Epoch 183/200\n",
      "32/32 [==============================] - 0s 2ms/step - loss: 0.0728 - accuracy: 0.9710 - val_loss: 0.1463 - val_accuracy: 0.9680\n",
      "Epoch 184/200\n",
      "32/32 [==============================] - 0s 2ms/step - loss: 0.0616 - accuracy: 0.9750 - val_loss: 0.1239 - val_accuracy: 0.9660\n",
      "Epoch 185/200\n",
      "32/32 [==============================] - 0s 3ms/step - loss: 0.0691 - accuracy: 0.9660 - val_loss: 0.1050 - val_accuracy: 0.9700\n",
      "Epoch 186/200\n",
      "32/32 [==============================] - 0s 2ms/step - loss: 0.0739 - accuracy: 0.9700 - val_loss: 0.1050 - val_accuracy: 0.9700\n",
      "Epoch 187/200\n",
      "32/32 [==============================] - 0s 2ms/step - loss: 0.0798 - accuracy: 0.9610 - val_loss: 0.1289 - val_accuracy: 0.9700\n",
      "Epoch 188/200\n",
      "32/32 [==============================] - 0s 2ms/step - loss: 0.0742 - accuracy: 0.9680 - val_loss: 0.1585 - val_accuracy: 0.9680\n",
      "Epoch 189/200\n",
      "32/32 [==============================] - 0s 2ms/step - loss: 0.0642 - accuracy: 0.9760 - val_loss: 0.1219 - val_accuracy: 0.9680\n",
      "Epoch 190/200\n",
      "32/32 [==============================] - 0s 2ms/step - loss: 0.0717 - accuracy: 0.9720 - val_loss: 0.1097 - val_accuracy: 0.9760\n",
      "Epoch 191/200\n",
      "32/32 [==============================] - 0s 2ms/step - loss: 0.0583 - accuracy: 0.9730 - val_loss: 0.1076 - val_accuracy: 0.9780\n",
      "Epoch 192/200\n",
      "32/32 [==============================] - 0s 2ms/step - loss: 0.0610 - accuracy: 0.9760 - val_loss: 0.1434 - val_accuracy: 0.9680\n",
      "Epoch 193/200\n",
      "32/32 [==============================] - 0s 2ms/step - loss: 0.0563 - accuracy: 0.9780 - val_loss: 0.1103 - val_accuracy: 0.9680\n",
      "Epoch 194/200\n",
      "32/32 [==============================] - 0s 2ms/step - loss: 0.0742 - accuracy: 0.9650 - val_loss: 0.1338 - val_accuracy: 0.9680\n",
      "Epoch 195/200\n",
      "32/32 [==============================] - 0s 2ms/step - loss: 0.0489 - accuracy: 0.9820 - val_loss: 0.1596 - val_accuracy: 0.9700\n",
      "Epoch 196/200\n",
      "32/32 [==============================] - 0s 2ms/step - loss: 0.0675 - accuracy: 0.9740 - val_loss: 0.1285 - val_accuracy: 0.9660\n",
      "Epoch 197/200\n",
      "32/32 [==============================] - 0s 2ms/step - loss: 0.0653 - accuracy: 0.9760 - val_loss: 0.1408 - val_accuracy: 0.9620\n",
      "Epoch 198/200\n",
      "32/32 [==============================] - 0s 2ms/step - loss: 0.0731 - accuracy: 0.9730 - val_loss: 0.1417 - val_accuracy: 0.9700\n",
      "Epoch 199/200\n",
      "32/32 [==============================] - 0s 2ms/step - loss: 0.0653 - accuracy: 0.9750 - val_loss: 0.1190 - val_accuracy: 0.9720\n",
      "Epoch 200/200\n",
      "32/32 [==============================] - 0s 2ms/step - loss: 0.0677 - accuracy: 0.9760 - val_loss: 0.1289 - val_accuracy: 0.9700\n"
     ]
    }
   ],
   "source": [
    "\n",
    "! rm -rf logs/\n",
    "%load_ext tensorboard\n",
    "%tensorboard --logdir logs/fit \n",
    "#--host localhost --port 8888\n",
    "import datetime\n",
    "log_dir = \"logs/fit/\" + datetime.datetime.now().strftime(\"%Y%m%d-%H%M%S\")\n",
    "tensorboard_callback = tf.keras.callbacks.TensorBoard(log_dir=log_dir, histogram_freq=1)\n",
    "\n",
    "model.set_weights(w0)\n",
    "history = model.fit(xs_train, ys_train, epochs=200, batch_size=32,\n",
    "                    validation_data=(xs_validate, ys_validate),\n",
    "                    callbacks=[tensorboard_callback])"
   ]
  },
  {
   "cell_type": "code",
   "execution_count": 70,
   "metadata": {
    "colab": {
     "base_uri": "https://localhost:8080/",
     "height": 34
    },
    "colab_type": "code",
    "id": "1muAoUm8lSXL",
    "outputId": "5ff328ef-73c5-45cd-e339-da52696b00e3"
   },
   "outputs": [
    {
     "name": "stdout",
     "output_type": "stream",
     "text": [
      "INFO:tensorflow:Assets written to: /var/folders/43/4pdy4jr56rx76bghv9vbsx140000gn/T/tmpamdxe7lr/assets\n"
     ]
    },
    {
     "name": "stderr",
     "output_type": "stream",
     "text": [
      "INFO:tensorflow:Assets written to: /var/folders/43/4pdy4jr56rx76bghv9vbsx140000gn/T/tmpamdxe7lr/assets\n"
     ]
    },
    {
     "name": "stdout",
     "output_type": "stream",
     "text": [
      "INFO:tensorflow:Assets written to: /var/folders/43/4pdy4jr56rx76bghv9vbsx140000gn/T/tmpuyi4d00a/assets\n"
     ]
    },
    {
     "name": "stderr",
     "output_type": "stream",
     "text": [
      "INFO:tensorflow:Assets written to: /var/folders/43/4pdy4jr56rx76bghv9vbsx140000gn/T/tmpuyi4d00a/assets\n"
     ]
    },
    {
     "data": {
      "text/plain": [
       "8576"
      ]
     },
     "execution_count": 70,
     "metadata": {},
     "output_type": "execute_result"
    }
   ],
   "source": [
    "model.save(\"built/model.h5\")\n",
    "\n",
    "# Convert the model to the TensorFlow Lite format without quantization\n",
    "converter = tf.lite.TFLiteConverter.from_keras_model(model)\n",
    "model_no_quant_tflite = converter.convert()\n",
    "\n",
    "# # Save the model to disk\n",
    "open(\"built/model-float32.tflite\", \"wb\").write(model_no_quant_tflite)\n",
    "\n",
    "# Convert the model to the TensorFlow Lite format with quantization\n",
    "def representative_dataset():\n",
    "  for i in range(500):\n",
    "    sample = xs_train[i].reshape(1,50,3,1)\n",
    "    yield([sample])\n",
    "# Set the optimization flag.\n",
    "converter.optimizations = [tf.lite.Optimize.DEFAULT]\n",
    "# Enforce full-int8 quantization (except inputs/outputs which are always float)\n",
    "converter.target_spec.supported_ops = [tf.lite.OpsSet.TFLITE_BUILTINS_INT8]\n",
    "# Provide a representative dataset to ensure we quantize correctly.\n",
    "converter.representative_dataset = representative_dataset\n",
    "model_tflite = converter.convert()\n",
    "\n",
    "# Save the model to disk\n",
    "open(\"built/model-int8.tflite\", \"wb\").write(model_tflite)"
   ]
  },
  {
   "cell_type": "markdown",
   "metadata": {
    "colab_type": "text",
    "id": "L_vE-ZDkHVxe"
   },
   "source": [
    "## Test the Models"
   ]
  },
  {
   "cell_type": "code",
   "execution_count": 71,
   "metadata": {
    "colab": {
     "base_uri": "https://localhost:8080/",
     "height": 281
    },
    "colab_type": "code",
    "id": "-J7IKlXiYVPz",
    "outputId": "87d2fd39-4ddc-4f73-e164-e0089a5cfb59"
   },
   "outputs": [
    {
     "name": "stdout",
     "output_type": "stream",
     "text": [
      "\n",
      "*** built/model.h5\n",
      "\n",
      "Accuracy: 0.938000\n",
      "tf.Tensor(\n",
      "[[233   6   5  13]\n",
      " [  1  71   0   4]\n",
      " [  0   1  82   0]\n",
      " [  0   1   0  83]], shape=(4, 4), dtype=int32)\n",
      "\n",
      "*** built/model-float32.tflite\n",
      "\n",
      "Accuracy: 0.938000\n",
      "tf.Tensor(\n",
      "[[233   6   5  13]\n",
      " [  1  71   0   4]\n",
      " [  0   1  82   0]\n",
      " [  0   1   0  83]], shape=(4, 4), dtype=int32)\n",
      "\n",
      "*** built/model-int8.tflite\n",
      "\n",
      "Accuracy: 0.948000\n",
      "tf.Tensor(\n",
      "[[238   5   3  11]\n",
      " [  2  72   0   2]\n",
      " [  0   2  81   0]\n",
      " [  0   0   1  83]], shape=(4, 4), dtype=int32)\n"
     ]
    }
   ],
   "source": [
    "def show_eval(fn, pred):\n",
    "    ok = ys_test.argmax(axis=1)\n",
    "    numok = 0\n",
    "    for i in range(len(ok)):\n",
    "        if ok[i] == pred[i]:\n",
    "            numok += 1\n",
    "    print(\"\\n*** %s\\n\" % fn)\n",
    "    print(\"Accuracy: %f\" % (numok / len(ok)))\n",
    "    print(tf.math.confusion_matrix(ok, pred))\n",
    "\n",
    "show_eval(\"built/model.h5\", model.predict(xs_test).argmax(axis=1))\n",
    "\n",
    "#loss = model.evaluate(xs_validate, ys_validate)\n",
    "#predictions = model.predict(xs_validate)\n",
    "#print(tf.math.confusion_matrix(ys_validate.argmax(axis=1), predictions.argmax(axis=1)))\n",
    "\n",
    "def eval_tflite(fn):\n",
    "    model_q = tf.lite.Interpreter(fn)\n",
    "    model_q.allocate_tensors()\n",
    "    inp_ten = model_q.get_input_details()[0][\"index\"]\n",
    "    model_input = model_q.tensor(inp_ten)\n",
    "    model_output = model_q.tensor(model_q.get_output_details()[0][\"index\"])\n",
    "    num = len(xs_test)\n",
    "    model_predictions = np.empty(num)\n",
    "    outputs = []\n",
    "\n",
    "    # Run each model's interpreter for each value and store the results in arrays\n",
    "    for i in range(num):\n",
    "        #print(xs_test[i].flatten())\n",
    "        #print(model_input)\n",
    "        model_q.set_tensor(inp_ten, xs_test[i].reshape(1,50,3,1))\n",
    "        #model_input().set(xs_test[i].flatten())\n",
    "        model_q.invoke()\n",
    "        outputs.append(model_output()[0].copy())\n",
    "    \n",
    "    outputs = np.array(outputs).argmax(axis=1)\n",
    "    show_eval(fn, outputs)\n",
    "\n",
    "eval_tflite(\"built/model-float32.tflite\")\n",
    "eval_tflite(\"built/model-int8.tflite\")"
   ]
  },
  {
   "cell_type": "markdown",
   "metadata": {},
   "source": [
    "## That's it!"
   ]
  },
  {
   "cell_type": "code",
   "execution_count": null,
   "metadata": {},
   "outputs": [],
   "source": []
  }
 ],
 "metadata": {
  "colab": {
   "collapsed_sections": [],
   "name": "train_hello_world_model.ipynb",
   "provenance": []
  },
  "kernelspec": {
   "display_name": "Python 3",
   "language": "python",
   "name": "python3"
  },
  "language_info": {
   "codemirror_mode": {
    "name": "ipython",
    "version": 3
   },
   "file_extension": ".py",
   "mimetype": "text/x-python",
   "name": "python",
   "nbconvert_exporter": "python",
   "pygments_lexer": "ipython3",
   "version": "3.8.5"
  }
 },
 "nbformat": 4,
 "nbformat_minor": 4
}